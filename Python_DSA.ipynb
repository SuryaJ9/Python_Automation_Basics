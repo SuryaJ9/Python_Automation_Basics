{
 "cells": [
  {
   "cell_type": "code",
   "execution_count": 5,
   "id": "ae61e5f0-0022-4f36-83c7-75bb90801cca",
   "metadata": {},
   "outputs": [
    {
     "name": "stdout",
     "output_type": "stream",
     "text": [
      "['apple', 'banana', 'cherry', 'mango']\n",
      "apple\n",
      "mango\n",
      "Updated list: ['apple', 'graphes', 'Cherry', 'orange']\n",
      "Updated list: ['apple', 'graphes', 'Cherry', 'orange', 'Lassy']\n"
     ]
    }
   ],
   "source": [
    "# Learning how to store,access and manipulate\n",
    "# collections of data in python\n",
    "# 1) Lists - Your Data Container\n",
    "# A list stores multiple items in one variable.\n",
    "fruits = [\"apple\",\"banana\",\"cherry\",\"mango\"]\n",
    "print(fruits) # printing all\n",
    "print(fruits[0]) # accessing the first item.\n",
    "print(fruits[-1]) # accessing the last item.\n",
    "\n",
    "# add new item\n",
    "fruits.append(\"orange\")\n",
    "\n",
    "# Remove item\n",
    "fruits.remove(\"banana\")\n",
    "\n",
    "# Replace\n",
    "fruits[1] = \"graphes\"\n",
    "\n",
    "# Replacing the item 3\n",
    "fruits[2] = \"Cherry\"\n",
    "\n",
    "print(\"Updated list:\",fruits)\n",
    "\n",
    "# adding the new item\n",
    "fruits.append(\"Lassy\")\n",
    "print(\"Updated list:\",fruits)\n"
   ]
  },
  {
   "cell_type": "code",
   "execution_count": 6,
   "id": "07b410bd-46f0-412f-a92d-5c1d1442a782",
   "metadata": {},
   "outputs": [
    {
     "name": "stdout",
     "output_type": "stream",
     "text": [
      "('red', 'green', 'blue')\n",
      "green\n"
     ]
    }
   ],
   "source": [
    "# 2) Tuples - Fixed Lists\n",
    "colors = (\"red\",\"green\",\"blue\")\n",
    "print(colors)\n",
    "print(colors[1])"
   ]
  },
  {
   "cell_type": "code",
   "execution_count": 7,
   "id": "2f5f9df1-b1e9-4130-ad0f-591f04872ad2",
   "metadata": {},
   "outputs": [
    {
     "ename": "TypeError",
     "evalue": "'tuple' object does not support item assignment",
     "output_type": "error",
     "traceback": [
      "\u001b[1;31m---------------------------------------------------------------------------\u001b[0m",
      "\u001b[1;31mTypeError\u001b[0m                                 Traceback (most recent call last)",
      "Cell \u001b[1;32mIn[7], line 1\u001b[0m\n\u001b[1;32m----> 1\u001b[0m \u001b[43mcolors\u001b[49m\u001b[43m[\u001b[49m\u001b[38;5;241;43m1\u001b[39;49m\u001b[43m]\u001b[49m \u001b[38;5;241m=\u001b[39m \u001b[38;5;124m\"\u001b[39m\u001b[38;5;124mGreen\u001b[39m\u001b[38;5;124m\"\u001b[39m\n",
      "\u001b[1;31mTypeError\u001b[0m: 'tuple' object does not support item assignment"
     ]
    }
   ],
   "source": [
    "colors[1] = \"Green\"\n",
    "# tuples Object does not support item assigment."
   ]
  },
  {
   "cell_type": "code",
   "execution_count": 9,
   "id": "54b77ab4-2709-4339-9d78-630f9d7d16b9",
   "metadata": {},
   "outputs": [
    {
     "ename": "AttributeError",
     "evalue": "'tuple' object has no attribute 'append'",
     "output_type": "error",
     "traceback": [
      "\u001b[1;31m---------------------------------------------------------------------------\u001b[0m",
      "\u001b[1;31mAttributeError\u001b[0m                            Traceback (most recent call last)",
      "Cell \u001b[1;32mIn[9], line 2\u001b[0m\n\u001b[0;32m      1\u001b[0m \u001b[38;5;66;03m# Add the new item\u001b[39;00m\n\u001b[1;32m----> 2\u001b[0m \u001b[43mcolors\u001b[49m\u001b[38;5;241;43m.\u001b[39;49m\u001b[43mappend\u001b[49m(\u001b[38;5;124m\"\u001b[39m\u001b[38;5;124mPurple\u001b[39m\u001b[38;5;124m\"\u001b[39m)\n\u001b[0;32m      3\u001b[0m \u001b[38;5;66;03m# You not able to append\u001b[39;00m\n",
      "\u001b[1;31mAttributeError\u001b[0m: 'tuple' object has no attribute 'append'"
     ]
    }
   ],
   "source": [
    "# Add the new item\n",
    "colors.append(\"Purple\")\n",
    "# You not able to append"
   ]
  },
  {
   "cell_type": "code",
   "execution_count": 10,
   "id": "9a357dcf-2737-44d2-bed2-f61eaae60dfc",
   "metadata": {},
   "outputs": [
    {
     "ename": "AttributeError",
     "evalue": "'tuple' object has no attribute 'remove'",
     "output_type": "error",
     "traceback": [
      "\u001b[1;31m---------------------------------------------------------------------------\u001b[0m",
      "\u001b[1;31mAttributeError\u001b[0m                            Traceback (most recent call last)",
      "Cell \u001b[1;32mIn[10], line 1\u001b[0m\n\u001b[1;32m----> 1\u001b[0m \u001b[43mcolors\u001b[49m\u001b[38;5;241;43m.\u001b[39;49m\u001b[43mremove\u001b[49m(\u001b[38;5;124m\"\u001b[39m\u001b[38;5;124mred\u001b[39m\u001b[38;5;124m\"\u001b[39m)\n",
      "\u001b[1;31mAttributeError\u001b[0m: 'tuple' object has no attribute 'remove'"
     ]
    }
   ],
   "source": [
    "# tuples not able to remove.\n",
    "colors.remove(\"red\")"
   ]
  },
  {
   "cell_type": "markdown",
   "id": "76faa4ae-f69a-4241-8af1-4ca917cf3d91",
   "metadata": {},
   "source": [
    "### Dictionaries"
   ]
  },
  {
   "cell_type": "markdown",
   "id": "0f3d1cd5-ecf2-44bb-a8eb-39868897c77b",
   "metadata": {},
   "source": [
    "#### A dictionary stores data in key-value pairs.\n",
    "#### Think of it like an ID card - each key has information attached to it."
   ]
  },
  {
   "cell_type": "code",
   "execution_count": 11,
   "id": "1285fc45-1061-4c07-992c-d9bd7ae8bc9a",
   "metadata": {},
   "outputs": [
    {
     "name": "stdout",
     "output_type": "stream",
     "text": [
      "Jayasurya\n",
      "AI Fundamentals\n",
      "Updated student info: {'name': 'Jayasurya', 'age': 25, 'course': 'AI Fundamentals', 'hours_per_day': 3, 'goal': 'Become AI Enginner'}\n"
     ]
    }
   ],
   "source": [
    "student = {\n",
    "    \"name\":\"Jayasurya\",\n",
    "    \"age\":25,\n",
    "    \"course\":\"AI Fundamentals\",\n",
    "    \"hours_per_day\":2\n",
    "}\n",
    "\n",
    "print(student[\"name\"])\n",
    "print(student.get(\"course\"))\n",
    "\n",
    "# add new key-value\n",
    "student[\"goal\"] = \"Become AI Enginner\"\n",
    "\n",
    "#update\n",
    "student[\"hours_per_day\"] = 3\n",
    "\n",
    "print(\"Updated student info:\",student)"
   ]
  },
  {
   "cell_type": "code",
   "execution_count": 13,
   "id": "c81bc5ed-7cfe-4e24-8a9d-7d76c13cb785",
   "metadata": {},
   "outputs": [
    {
     "name": "stdout",
     "output_type": "stream",
     "text": [
      "{'name': 'Jayasurya', 'goal': 'Figuring out', 'daily_learning_hours': 27, 'favourite_AI_topic': 'Prompt_Enginner'}\n"
     ]
    }
   ],
   "source": [
    "# Creating the dictionary about yourself\n",
    "\n",
    "student = {\n",
    "    \"name\":\"Jayasurya\",\n",
    "    \"goal\":\"Figuring out\",\n",
    "    \"daily_learning_hours\":27,\n",
    "    \"favourite_AI_topic\":\"Prompt_Enginner\"\n",
    "\n",
    "}\n",
    "print(student)"
   ]
  },
  {
   "cell_type": "code",
   "execution_count": 14,
   "id": "39efd66f-753f-47ad-a7fc-26aee4465508",
   "metadata": {},
   "outputs": [
    {
     "name": "stdout",
     "output_type": "stream",
     "text": [
      "Jayasury studies 2 hours daily\n",
      "Rahul studies 3 hours daily\n",
      "Priya studies 1.5 hours daily\n"
     ]
    }
   ],
   "source": [
    "students = [\n",
    "    {\"name\":\"Jayasury\",\"hours\":2},\n",
    "    {\"name\":\"Rahul\",\"hours\":3},\n",
    "    {\"name\":\"Priya\",\"hours\":1.5}\n",
    "]\n",
    "for s in students:\n",
    "    print(s[\"name\"],\"studies\",s[\"hours\"],\"hours daily\")"
   ]
  },
  {
   "cell_type": "code",
   "execution_count": 25,
   "id": "670d77fc-b38b-4b4a-9d5d-93c7d6ae708e",
   "metadata": {},
   "outputs": [
    {
     "name": "stdout",
     "output_type": "stream",
     "text": [
      "Jayasurya (Male) studies 2 hours daily. keep going! \n",
      "Rahul (Male) studies 3 hours daily. keep going! \n",
      "Priya (Female) studies 1.5 hours daily. keep going! \n",
      "\n",
      " Total learning hours of all students per day: 6.5\n"
     ]
    }
   ],
   "source": [
    "# step 1 = Store data of students\n",
    "\n",
    "students = [\n",
    "    {\"name\":\"Jayasurya\",\"gender\":\"Male\",\"hours\":2},\n",
    "    {\"name\":\"Rahul\",\"gender\":\"Male\",\"hours\":3},\n",
    "    {\"name\":\"Priya\",\"gender\":\"Female\",\"hours\":1.5}\n",
    "]\n",
    "# step 2: Initialize total hours \n",
    "total_hours = 0\n",
    "\n",
    "for s in students:\n",
    "    print(f\"{s['name']} ({s['gender']}) studies {s['hours']} hours daily. keep going! \")\n",
    "    total_hours += s['hours']\n",
    "\n",
    "# step 4: print the total\n",
    "print(f\"\\n Total learning hours of all students per day:\", total_hours)"
   ]
  },
  {
   "cell_type": "code",
   "execution_count": 32,
   "id": "9dc50483-2431-4486-b836-0af3f5fee69a",
   "metadata": {},
   "outputs": [
    {
     "name": "stdout",
     "output_type": "stream",
     "text": [
      "Jayasurya studies 2 hours daily - Good Progress! Keep pushing\n",
      "Surya studies 2 hours daily - Good Progress! Keep pushing\n",
      "Jaya studies 3 hours daily - Excellent consistency\n"
     ]
    }
   ],
   "source": [
    "# 3) Combine with loops + dictionaries\n",
    "students = [\n",
    "    {\"name\":\"Jayasurya\",\"hours\":2},\n",
    "    {\"name\":\"Surya\",\"hours\":2},\n",
    "    {\"name\":\"Jaya\",\"hours\":3},\n",
    "\n",
    "]\n",
    "for s in students:\n",
    "    if s[\"hours\"] >= 3:\n",
    "        message = \"Excellent consistency\"\n",
    "    elif s[\"hours\"] >= 2:\n",
    "        message = \"Good Progress! Keep pushing\"\n",
    "    else:\n",
    "        message = \"Needs more focus! you do it\"\n",
    "    print(f\"{s['name']} studies {s['hours']} hours daily - {message}\")"
   ]
  },
  {
   "cell_type": "markdown",
   "id": "3fa3baff-40a1-4ae3-aea0-5bfea06649d1",
   "metadata": {},
   "source": [
    "## mini Challenges\n",
    "Write a program that user should enter their daily study hours using input()\n",
    "prints feedback \n",
    ">= 4-> \"You're a future AI Pro\"\n",
    "2-3 -> \"Nice Keep building consistency\"\n",
    "<2 -> \"Push yourself more!\"\n",
    "    "
   ]
  },
  {
   "cell_type": "code",
   "execution_count": 37,
   "id": "af223841-5f03-4a7a-8c5e-d2deebdbfb9e",
   "metadata": {},
   "outputs": [
    {
     "name": "stdin",
     "output_type": "stream",
     "text": [
      "Enter hours for Jayasurya: 2\n",
      "Enter hours for Surya 2\n",
      "Enter hours for Jaya: 3\n"
     ]
    },
    {
     "name": "stdout",
     "output_type": "stream",
     "text": [
      "Jayasurya studies2 hour daily - Nice Keep building consistency\n",
      "Surya studies2 hour daily - Nice Keep building consistency\n",
      "Jaya studies3 hour daily - Nice Keep building consistency\n"
     ]
    }
   ],
   "source": [
    "hours1 = int(input(\"Enter hours for Jayasurya:\"))\n",
    "hours2 = int(input(\"Enter hours for Surya\"))\n",
    "hours3 = int(input(\"Enter hours for Jaya:\"))\n",
    "\n",
    "students = [\n",
    "    {\"name\":\"Jayasurya\",\"hours\":hours1},\n",
    "    {\"name\":\"Surya\",\"hours\":hours2},\n",
    "    {\"name\":\"Jaya\",\"hours\":hours3}\n",
    "]\n",
    "\n",
    "for s in students:\n",
    "    if s[\"hours\"] >= 4:\n",
    "        message = \"You're a future AI Pro\"\n",
    "\n",
    "    elif s[\"hours\"] >= 2:\n",
    "        message = \"Nice Keep building consistency\"\n",
    "    else:\n",
    "        message = \"Push yourself more!\"\n",
    "    print(f\"{s['name']} studies{s['hours']} hour daily - {message}\")\n",
    "        "
   ]
  },
  {
   "cell_type": "code",
   "execution_count": 1,
   "id": "86ecc9d2-1387-4253-8d2f-747dd87a01a1",
   "metadata": {},
   "outputs": [
    {
     "name": "stdin",
     "output_type": "stream",
     "text": [
      "Enter hours for jayasurya 2\n",
      "Enter hours for Surya 2\n",
      "Enter hours for Jaya: 1\n"
     ]
    },
    {
     "name": "stdout",
     "output_type": "stream",
     "text": [
      "Jayasurya studies2 hours daily - Nice keep building consistency\n",
      "Surya studies2 hours daily - Nice keep building consistency\n",
      "Jaya studies1 hours daily - Push yourseld more!\n"
     ]
    }
   ],
   "source": [
    "hours1 = int(input(\"Enter hours for jayasurya\"))\n",
    "hours2 = int(input(\"Enter hours for Surya\"))\n",
    "hours3 = int(input(\"Enter hours for Jaya:\"))\n",
    "\n",
    "students = [\n",
    "    {\"name\":\"Jayasurya\",\"hours\":hours1},\n",
    "    {\"name\":\"Surya\",\"hours\":hours2},\n",
    "    {\"name\":\"Jaya\",\"hours\":hours3}\n",
    "\n",
    "]\n",
    "for s in students:\n",
    "    if s[\"hours\"] >= 4:\n",
    "        message = \"You're a future AI Pro\"\n",
    "\n",
    "    elif s[\"hours\"] >=2:\n",
    "        message = \"Nice keep building consistency\"\n",
    "\n",
    "    else:\n",
    "        message = \"Push yourseld more!\"\n",
    "    print(f\"{s['name']} studies{s['hours']} hours daily - {message}\")"
   ]
  },
  {
   "cell_type": "code",
   "execution_count": 7,
   "id": "1243adc5-250e-4186-98f4-805d4dd44ff5",
   "metadata": {},
   "outputs": [
    {
     "name": "stdin",
     "output_type": "stream",
     "text": [
      "Enter the number: 5\n"
     ]
    },
    {
     "ename": "TypeError",
     "evalue": "'int' object is not iterable",
     "output_type": "error",
     "traceback": [
      "\u001b[1;31m---------------------------------------------------------------------------\u001b[0m",
      "\u001b[1;31mTypeError\u001b[0m                                 Traceback (most recent call last)",
      "Cell \u001b[1;32mIn[7], line 5\u001b[0m\n\u001b[0;32m      1\u001b[0m \u001b[38;5;66;03m# Loops: 1. Loops & Conditions\u001b[39;00m\n\u001b[0;32m      2\u001b[0m \u001b[38;5;66;03m# Task 1: Countdown timer\u001b[39;00m\n\u001b[0;32m      3\u001b[0m \u001b[38;5;66;03m# Write a program that takes a number fron the user(say n = 5) and print a countdown to 0.\u001b[39;00m\n\u001b[0;32m      4\u001b[0m n \u001b[38;5;241m=\u001b[39m \u001b[38;5;28mint\u001b[39m(\u001b[38;5;28minput\u001b[39m(\u001b[38;5;124m\"\u001b[39m\u001b[38;5;124mEnter the number:\u001b[39m\u001b[38;5;124m\"\u001b[39m))\n\u001b[1;32m----> 5\u001b[0m \u001b[38;5;28;43;01mfor\u001b[39;49;00m\u001b[43m \u001b[49m\u001b[43ms\u001b[49m\u001b[43m \u001b[49m\u001b[38;5;129;43;01min\u001b[39;49;00m\u001b[43m \u001b[49m\u001b[43mn\u001b[49m\u001b[43m:\u001b[49m\n\u001b[0;32m      6\u001b[0m \u001b[43m    \u001b[49m\u001b[38;5;28;43mprint\u001b[39;49m\u001b[43m(\u001b[49m\u001b[43mn\u001b[49m\u001b[43m)\u001b[49m\n\u001b[0;32m      7\u001b[0m \u001b[43m    \u001b[49m\u001b[43mn\u001b[49m\u001b[43m \u001b[49m\u001b[38;5;241;43m-\u001b[39;49m\u001b[38;5;241;43m=\u001b[39;49m\u001b[43m \u001b[49m\u001b[38;5;241;43m1\u001b[39;49m \u001b[38;5;66;03m# reduce by 1 each loop\u001b[39;00m\n",
      "\u001b[1;31mTypeError\u001b[0m: 'int' object is not iterable"
     ]
    }
   ],
   "source": [
    "# Loops: 1. Loops & Conditions\n",
    "# Task 1: Countdown timer\n",
    "# Write a program that takes a number fron the user(say n = 5) and print a countdown to 0.\n",
    "n = int(input(\"Enter the number:\"))\n",
    "for s in n: # it throws the int object is not iterable, we have use range() \n",
    "    print(n)\n",
    "    n -= 1 # reduce by 1 each loop\n",
    "print(\"Time's up!\")"
   ]
  },
  {
   "cell_type": "code",
   "execution_count": 9,
   "id": "5ba6989b-580e-492f-80fc-f599badbbae5",
   "metadata": {},
   "outputs": [
    {
     "name": "stdin",
     "output_type": "stream",
     "text": [
      "Enter the number: 5\n"
     ]
    },
    {
     "name": "stdout",
     "output_type": "stream",
     "text": [
      "5\n",
      "4\n",
      "3\n",
      "2\n",
      "1\n",
      "Time's up!\n"
     ]
    }
   ],
   "source": [
    "n = int(input(\"Enter the number:\"))\n",
    "\n",
    "for s in range(n):\n",
    "    print(n)\n",
    "    n -= 1 # reduce by 1 each loop\n",
    "print(\"Time's up!\")"
   ]
  },
  {
   "cell_type": "code",
   "execution_count": 13,
   "id": "e9710119-fa73-4cf3-945b-55e555df4ac2",
   "metadata": {},
   "outputs": [
    {
     "name": "stdin",
     "output_type": "stream",
     "text": [
      "Enter number: 2\n"
     ]
    },
    {
     "name": "stdout",
     "output_type": "stream",
     "text": [
      "2x 10 = 20\n",
      "2x 11 = 22\n",
      "2x 12 = 24\n",
      "2x 13 = 26\n",
      "2x 14 = 28\n",
      "2x 15 = 30\n",
      "2x 16 = 32\n",
      "2x 17 = 34\n",
      "2x 18 = 36\n",
      "2x 19 = 38\n",
      "2x 20 = 40\n"
     ]
    }
   ],
   "source": [
    "## Task 2 : Multiplication Table\n",
    "\n",
    "# Multiplications Table\n",
    "num = int(input(\"Enter number:\"))\n",
    "\n",
    "for i in range(10, 21):\n",
    "    print(f\"{num}x {i} = {num*i}\")"
   ]
  },
  {
   "cell_type": "code",
   "execution_count": 17,
   "id": "3fc5077d-6870-4b9d-9aed-7d074724f7c2",
   "metadata": {},
   "outputs": [
    {
     "name": "stdin",
     "output_type": "stream",
     "text": [
      "Enter number 1 5\n",
      "Enter number 2 6\n",
      "Enter number 3 3\n",
      "Enter number 4 8\n"
     ]
    },
    {
     "name": "stdout",
     "output_type": "stream",
     "text": [
      "Even numbers: 2\n",
      "Odd numbers: 2\n"
     ]
    }
   ],
   "source": [
    "# Task 3: Even Or Odd numbers\n",
    "even_count = 0\n",
    "odd_count = 0\n",
    "for i in range(1,5):\n",
    "    num = int(input(f\"Enter number {i}\"))\n",
    "    if num % 2 == 0:\n",
    "        even_count += 1\n",
    "    else:\n",
    "        odd_count += 1\n",
    "print(f\"Even numbers: {even_count}\")\n",
    "print(f\"Odd numbers: {odd_count}\")"
   ]
  },
  {
   "cell_type": "code",
   "execution_count": 9,
   "id": "938d5b5b-c3f9-4a9b-b252-e2f18314d114",
   "metadata": {},
   "outputs": [
    {
     "name": "stdin",
     "output_type": "stream",
     "text": [
      "Enter the number: 5\n"
     ]
    },
    {
     "name": "stdout",
     "output_type": "stream",
     "text": [
      "Sum of n natural numbers: 15\n"
     ]
    }
   ],
   "source": [
    "# Task 4: Sum of all natural Numbers:'\n",
    "n = int(input(\"Enter the number:\"))\n",
    "for i in range(n):\n",
    "      n += i\n",
    "print(\"Sum of n natural numbers:\",n)"
   ]
  },
  {
   "cell_type": "code",
   "execution_count": 1,
   "id": "63a5e948-5641-4192-92d9-2cf200d58efd",
   "metadata": {},
   "outputs": [
    {
     "name": "stdin",
     "output_type": "stream",
     "text": [
      "Enter the factorial of the number 5\n"
     ]
    },
    {
     "name": "stdout",
     "output_type": "stream",
     "text": [
      "Factorail= 120\n"
     ]
    }
   ],
   "source": [
    "# Factorial of the number\n",
    "n = int(input(\"Enter the factorial of the number\"))\n",
    "fact = 1\n",
    "for i in range(1, n + 1):\n",
    "    fact = fact * i\n",
    "print(\"Factorail=\",fact)"
   ]
  },
  {
   "cell_type": "code",
   "execution_count": 4,
   "id": "d6c21d3a-9e50-49da-a0cd-5128a6017189",
   "metadata": {},
   "outputs": [
    {
     "name": "stdin",
     "output_type": "stream",
     "text": [
      "Enter number:  1234\n"
     ]
    },
    {
     "name": "stdout",
     "output_type": "stream",
     "text": [
      "Reversed number: 1\n"
     ]
    }
   ],
   "source": [
    "# Task 4: Reverse of the number\n",
    "num = int(input(\"Enter number: \"))\n",
    "rev = 0\n",
    "while num > 0:\n",
    "    digit = num % 10\n",
    "    rev =  rev * 10 + digit\n",
    "    num //= 10\n",
    "print(\"Reversed number:\",rev)"
   ]
  },
  {
   "cell_type": "code",
   "execution_count": 2,
   "id": "0812c481-a64d-4d6b-92b3-445a315ef5eb",
   "metadata": {},
   "outputs": [
    {
     "name": "stdout",
     "output_type": "stream",
     "text": [
      "3\n"
     ]
    }
   ],
   "source": [
    "num = 123\n",
    "digit = num % 10\n",
    "print(digit)"
   ]
  },
  {
   "cell_type": "code",
   "execution_count": null,
   "id": "3622c8b6-18e0-4d18-aeab-92c324f8b1dd",
   "metadata": {},
   "outputs": [],
   "source": []
  }
 ],
 "metadata": {
  "kernelspec": {
   "display_name": "Python 3 (ipykernel)",
   "language": "python",
   "name": "python3"
  },
  "language_info": {
   "codemirror_mode": {
    "name": "ipython",
    "version": 3
   },
   "file_extension": ".py",
   "mimetype": "text/x-python",
   "name": "python",
   "nbconvert_exporter": "python",
   "pygments_lexer": "ipython3",
   "version": "3.12.4"
  }
 },
 "nbformat": 4,
 "nbformat_minor": 5
}
