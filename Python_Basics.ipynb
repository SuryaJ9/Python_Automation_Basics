{
 "cells": [
  {
   "cell_type": "code",
   "execution_count": 1,
   "id": "5b845e4e-64ca-424a-ad26-f3bbc35f7954",
   "metadata": {},
   "outputs": [
    {
     "name": "stdout",
     "output_type": "stream",
     "text": [
      "Hello, AI world\n"
     ]
    }
   ],
   "source": [
    "# Understand and Practice basic syntax,data types, and operations\n",
    "print(\"Hello, AI world\")\n"
   ]
  },
  {
   "cell_type": "code",
   "execution_count": 2,
   "id": "2a67a1bf-2d0b-41aa-9058-885539518797",
   "metadata": {},
   "outputs": [
    {
     "name": "stdout",
     "output_type": "stream",
     "text": [
      "Jayasurya is 25 and 5.9 is_learning AI: True\n"
     ]
    }
   ],
   "source": [
    "# 2) Variables and Data types\n",
    "# Integer\n",
    "age = 25\n",
    "# float\n",
    "height = 5.9\n",
    "# String(text0\n",
    "name = \"Jayasurya\"\n",
    "# Boolean (true/false)\n",
    "is_learning = True\n",
    "print(name,\"is\",age,\"and\",height,\"is_learning AI:\",is_learning)"
   ]
  },
  {
   "cell_type": "code",
   "execution_count": 3,
   "id": "9f0c26a3-c887-4cc0-ad05-e435a2df54c2",
   "metadata": {},
   "outputs": [
    {
     "name": "stdout",
     "output_type": "stream",
     "text": [
      "Artificial Intelligence It's time duration 30 Is it Completed True\n"
     ]
    }
   ],
   "source": [
    "Course_name = \"Artificial Intelligence\"\n",
    "Course_duration = 30\n",
    "Is_Completed = True\n",
    "\n",
    "print(Course_name,\"It's time duration is\",Course_duration,\"Is it Completed\",Is_Completed)\n"
   ]
  },
  {
   "cell_type": "code",
   "execution_count": 9,
   "id": "0e03feed-789a-4583-a96c-4f4df5041eec",
   "metadata": {},
   "outputs": [
    {
     "name": "stdout",
     "output_type": "stream",
     "text": [
      "Addition: 13\n",
      "substraction: 7\n",
      "Multiplication: 30\n",
      "Division: 3.33\n",
      "Power: 1000\n"
     ]
    }
   ],
   "source": [
    "# Basic Math operations\n",
    "x = 10\n",
    "y = 3\n",
    "print(\"Addition:\",x + y)\n",
    "print(\"substraction:\",x-y)\n",
    "print(\"Multiplication:\",x*y)\n",
    "print(\"Division:\",round((x/y),2))\n",
    "print(\"Power:\",x**y)"
   ]
  },
  {
   "cell_type": "code",
   "execution_count": 11,
   "id": "7f6d093c-412e-4a5a-b417-b4abd476e299",
   "metadata": {},
   "outputs": [
    {
     "name": "stdout",
     "output_type": "stream",
     "text": [
      "Total number of hours: 120\n"
     ]
    }
   ],
   "source": [
    "# Calculate the AI learning goal: If you study 2 hour per day for 60 days how many hours total?\n",
    "hours_per_day = 2\n",
    "days = 60\n",
    "total_hours = hours_per_day * days\n",
    "print(\"Total number of hours:\", total_hours)"
   ]
  },
  {
   "cell_type": "code",
   "execution_count": 12,
   "id": "a2ac7a63-682a-4740-895d-001651f86b5f",
   "metadata": {},
   "outputs": [
    {
     "name": "stdin",
     "output_type": "stream",
     "text": [
      "Enter your name: Jayasurya\n",
      "What do you want to master in AI How the AI works behind the scences\n"
     ]
    },
    {
     "name": "stdout",
     "output_type": "stream",
     "text": [
      "Hi Jayasurya you will master How the AI works behind the scences soon\n"
     ]
    }
   ],
   "source": [
    "# 4 Input taking from the user\n",
    "name = input(\"Enter your name:\")\n",
    "goal = input(\"What do you want to master in AI\")\n",
    "print(\"Hi\",name,\"you will master\",goal,\"soon\")"
   ]
  },
  {
   "cell_type": "code",
   "execution_count": 1,
   "id": "c113bd6f-d660-4d61-9ec4-4b547dbdc24c",
   "metadata": {},
   "outputs": [
    {
     "name": "stdin",
     "output_type": "stream",
     "text": [
      " Your Name Jayasurya\n",
      "Your Age is 25\n",
      "Your Gender male\n"
     ]
    },
    {
     "name": "stdout",
     "output_type": "stream",
     "text": [
      "Your name Jayasurya Your age 25 Your Gender male\n"
     ]
    }
   ],
   "source": [
    "Name = input(\" Your Name\")\n",
    "Age = int(input(\"Your Age is\"))\n",
    "Gender = input(\"Your Gender\")\n",
    "print(\"Your name\",Name,\"Your age\",Age,\"Your Gender\",Gender)\n"
   ]
  },
  {
   "cell_type": "code",
   "execution_count": 2,
   "id": "b82f2bc1-728a-4b62-8cbd-640ac2cb6bfb",
   "metadata": {},
   "outputs": [
    {
     "name": "stdin",
     "output_type": "stream",
     "text": [
      "Enter first number: 23\n",
      "Enter second number: 23\n"
     ]
    },
    {
     "name": "stdout",
     "output_type": "stream",
     "text": [
      "Sum: 46\n"
     ]
    }
   ],
   "source": [
    "# Type Conversion\n",
    "num1 = input(\"Enter first number:\")\n",
    "num2 = input(\"Enter second number:\")\n",
    "\n",
    "#convert strings to integer\n",
    "sum = int(num1) + int(num2)\n",
    "print(\"Sum:\",sum)"
   ]
  },
  {
   "cell_type": "code",
   "execution_count": 1,
   "id": "f4229c3d-f201-461e-b2f0-15ac3f92d05a",
   "metadata": {},
   "outputs": [
    {
     "name": "stdin",
     "output_type": "stream",
     "text": [
      "Enter your weight1 23\n",
      "Enter your weight2 23\n"
     ]
    },
    {
     "name": "stdout",
     "output_type": "stream",
     "text": [
      "Sum: 46.0\n"
     ]
    }
   ],
   "source": [
    "# Type Conversion\n",
    "num1 = input(\"Enter your weight1\")\n",
    "num2 = input(\"Enter your weight2\")\n",
    "\n",
    "sum = float(num1) + float(num2)\n",
    "\n",
    "print(\"Sum:\",sum)"
   ]
  },
  {
   "cell_type": "code",
   "execution_count": 2,
   "id": "7f0b816c-ce2f-411f-9f53-9ed8ccfc0e31",
   "metadata": {},
   "outputs": [
    {
     "name": "stdin",
     "output_type": "stream",
     "text": [
      " Jayasurya\n",
      " 25\n",
      " 2\n",
      " 60\n"
     ]
    },
    {
     "name": "stdout",
     "output_type": "stream",
     "text": [
      "Jayasurya , by Learning 2 hours daily, you will complete 120 hours in 60 ! Keep Going!\n"
     ]
    }
   ],
   "source": [
    "# Mini Task for you\n",
    "Name = input()\n",
    "age = input()\n",
    "hours = int(input())\n",
    "days = int(input())\n",
    "total_hours = hours * days \n",
    "print(Name,\",\",\"by Learning\",hours,\"hours daily,\",\"you will complete\",total_hours,\"hours\",\"in\",days,\"!\",\"Keep Going!\")"
   ]
  },
  {
   "cell_type": "code",
   "execution_count": 6,
   "id": "ab563ff2-b03c-4032-aa7e-4eb98d7de635",
   "metadata": {},
   "outputs": [
    {
     "name": "stdin",
     "output_type": "stream",
     "text": [
      "Enter you name: Jayasurya\n",
      "Enter you age: 25\n",
      "How many hours do you study daily? 2\n",
      "For how many days do you plan to learn? 30\n"
     ]
    },
    {
     "name": "stdout",
     "output_type": "stream",
     "text": [
      "\n",
      "Jayasurya,by learning2 hours daily,you will complete32 hours in 30 days! keep doing\n"
     ]
    }
   ],
   "source": [
    "# Improvement version\n",
    "name = input(\"Enter you name:\")\n",
    "age = int(input(\"Enter you age:\"))\n",
    "hours = int(input(\"How many hours do you study daily?\"))\n",
    "days = int(input(\"For how many days do you plan to learn?\"))\n",
    "\n",
    "total_hours = hours + days\n",
    "print(f\"\\n{name},by learning{hours} hours daily,you will complete{total_hours} hours in {days} days! keep doing\")"
   ]
  },
  {
   "cell_type": "code",
   "execution_count": null,
   "id": "01057fd8-c3fd-47af-83d8-a3804921d5ea",
   "metadata": {},
   "outputs": [],
   "source": []
  }
 ],
 "metadata": {
  "kernelspec": {
   "display_name": "Python 3 (ipykernel)",
   "language": "python",
   "name": "python3"
  },
  "language_info": {
   "codemirror_mode": {
    "name": "ipython",
    "version": 3
   },
   "file_extension": ".py",
   "mimetype": "text/x-python",
   "name": "python",
   "nbconvert_exporter": "python",
   "pygments_lexer": "ipython3",
   "version": "3.12.4"
  }
 },
 "nbformat": 4,
 "nbformat_minor": 5
}
