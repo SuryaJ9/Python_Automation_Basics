{
 "cells": [
  {
   "cell_type": "code",
   "execution_count": null,
   "id": "062c7f5f-eb52-4203-b9e9-eb64936c416d",
   "metadata": {},
   "outputs": [],
   "source": [
    "# key python concepts\n",
    "## def and return \n",
    "# what is a functions?\n",
    "# A Function is a reusable block of code that performs a specific tasks "
   ]
  },
  {
   "cell_type": "code",
   "execution_count": 1,
   "id": "b3a367ed-9fc8-4f2c-85d7-fe046a4761a4",
   "metadata": {},
   "outputs": [],
   "source": [
    "# Syntax of a function\n",
    "def function_name(parameters):\n",
    "    return result"
   ]
  },
  {
   "cell_type": "code",
   "execution_count": 4,
   "id": "0054d61a-485e-413d-b961-f4f7de92bec9",
   "metadata": {},
   "outputs": [
    {
     "name": "stdout",
     "output_type": "stream",
     "text": [
      "hello, Jayasurya\n"
     ]
    }
   ],
   "source": [
    "# Example\n",
    "def greet(name):\n",
    "     return f\"hello, {name}\"\n",
    "print(greet(\"Jayasurya\"))"
   ]
  },
  {
   "cell_type": "code",
   "execution_count": 5,
   "id": "09bf3d8d-ea56-4371-8bb3-554b0de2e0db",
   "metadata": {},
   "outputs": [
    {
     "name": "stdout",
     "output_type": "stream",
     "text": [
      "hello,Jayasurya and age25\n"
     ]
    }
   ],
   "source": [
    "def greetings(name,age):\n",
    "    return f\"hello,{name} and age{age}\"\n",
    "print(greetings(\"Jayasurya\",25))"
   ]
  },
  {
   "cell_type": "code",
   "execution_count": 8,
   "id": "6d9da496-1d5a-4203-adc1-6109e359d810",
   "metadata": {},
   "outputs": [
    {
     "data": {
      "text/plain": [
       "6"
      ]
     },
     "execution_count": 8,
     "metadata": {},
     "output_type": "execute_result"
    }
   ],
   "source": [
    "# Example 2: Function with multiple Parameters\n",
    "def add_numbers(a,b):\n",
    "    return a * b\n",
    "add_numbers(2,3)"
   ]
  },
  {
   "cell_type": "code",
   "execution_count": 9,
   "id": "85ae2277-7b06-420a-82bd-341e137ddd06",
   "metadata": {},
   "outputs": [
    {
     "name": "stdout",
     "output_type": "stream",
     "text": [
      "Hello World\n"
     ]
    }
   ],
   "source": [
    "# Example without parameters\n",
    "def say_hello():\n",
    "    print(\"Hello World\")\n",
    "say_hello()"
   ]
  },
  {
   "cell_type": "code",
   "execution_count": 11,
   "id": "9e3cb39b-bdf3-4bb9-b817-cf193c47819f",
   "metadata": {},
   "outputs": [
    {
     "name": "stdout",
     "output_type": "stream",
     "text": [
      "Addition of two numbers: 6\n"
     ]
    }
   ],
   "source": [
    "# functions without return values\n",
    "def add(a,b):\n",
    "    print(\"Addition of two numbers:\", a + b)\n",
    "add(2,4)"
   ]
  },
  {
   "cell_type": "code",
   "execution_count": 14,
   "id": "eb742f50-35d4-42db-8a43-aefa7ce6fffc",
   "metadata": {},
   "outputs": [
    {
     "data": {
      "text/plain": [
       "'My Name is Jayasurya and I am 24 years old'"
      ]
     },
     "execution_count": 14,
     "metadata": {},
     "output_type": "execute_result"
    }
   ],
   "source": [
    "def intro(name,age):\n",
    "    return f\"My Name is {name} and I am {age} years old\"\n",
    "\n",
    "intro(\"Jayasurya\",24)"
   ]
  },
  {
   "cell_type": "code",
   "execution_count": 19,
   "id": "7dc86a0b-3fc3-47f3-8987-e72f44dc4bc5",
   "metadata": {},
   "outputs": [
    {
     "name": "stdout",
     "output_type": "stream",
     "text": [
      "5\n",
      "Result is: None\n"
     ]
    }
   ],
   "source": [
    "def add(a,b):\n",
    "    print(a + b)\n",
    "\n",
    "result = add(2,3)\n",
    "\n",
    "print(\"Result is:\",result)"
   ]
  },
  {
   "cell_type": "code",
   "execution_count": 20,
   "id": "34de25a2-7567-47a0-9d4f-6cfb1447d376",
   "metadata": {},
   "outputs": [
    {
     "name": "stdout",
     "output_type": "stream",
     "text": [
      "Result is: 5\n"
     ]
    }
   ],
   "source": [
    "# Important point to note: Notice that result is None - Because print() does'nt return a value, it just displays it\n",
    "# return - > Sends the results back to the program\n",
    "# It allows you to save,reuse, or process the value furthur\n",
    "def add(a,b):\n",
    "    return a + b\n",
    "result = add(2,3)\n",
    "print(\"Result is:\",result)"
   ]
  },
  {
   "cell_type": "code",
   "execution_count": 23,
   "id": "a22d242f-67e8-4dcf-832d-c42acc4cf7e9",
   "metadata": {},
   "outputs": [
    {
     "data": {
      "text/plain": [
       "' My Name is Jayasurya and I am 25 years old'"
      ]
     },
     "execution_count": 23,
     "metadata": {},
     "output_type": "execute_result"
    }
   ],
   "source": [
    "# 2 keyword parameters\n",
    "# You can specify parameter name while calling the function - order doesn't matter\n",
    "\n",
    "def describe_person(age,name):\n",
    "    return f\" My Name is {name} and I am {age} years old\"\n",
    "    \n",
    "describe_person(age=25,name=\"Jayasurya\")    "
   ]
  },
  {
   "cell_type": "code",
   "execution_count": 26,
   "id": "e5cdede5-5501-4ec9-a4d0-2786e7ae8d41",
   "metadata": {},
   "outputs": [
    {
     "name": "stdout",
     "output_type": "stream",
     "text": [
      "Hello,Friend!\n",
      "Hello,Surya!\n"
     ]
    }
   ],
   "source": [
    "# 3 default parameters\n",
    "def great(name=\"Friend\"):\n",
    "    print(f\"Hello,{name}!\")\n",
    "great()\n",
    "great(\"Surya\")"
   ]
  },
  {
   "cell_type": "code",
   "execution_count": 27,
   "id": "da0f105e-2279-4186-9a21-6bfc439b6e57",
   "metadata": {},
   "outputs": [
    {
     "name": "stdout",
     "output_type": "stream",
     "text": [
      "Jayasurya is learning Python in Banglore\n",
      "Ananya is learning Data Science in Banglore\n"
     ]
    }
   ],
   "source": [
    "# 4 Multiple Parameter Example\n",
    "\n",
    "def student_info(name,course=\"Python\",city=\"Banglore\"):\n",
    "    return f\"{name} is learning {course} in {city}\"\n",
    "\n",
    "print(student_info(\"Jayasurya\"))\n",
    "print(student_info(\"Ananya\",\"Data Science\"))\n",
    "    "
   ]
  },
  {
   "cell_type": "code",
   "execution_count": 28,
   "id": "f0a78216-5ac4-4cbb-bbf1-9f8c7fe6d307",
   "metadata": {},
   "outputs": [
    {
     "data": {
      "text/plain": [
       "'A Data Analyst in Bengaluru earns around 100000 per month'"
      ]
     },
     "execution_count": 28,
     "metadata": {},
     "output_type": "execute_result"
    }
   ],
   "source": [
    "def analyze_salary(role,salary,city):\n",
    "    return f\"A {role} in {city} earns around {salary} per month\"\n",
    "\n",
    "analyze_salary(\"Data Analyst\",100000,\"Bengaluru\")\n",
    "\n",
    "    "
   ]
  },
  {
   "cell_type": "code",
   "execution_count": 34,
   "id": "c9650223-3ba5-4ffb-b7a1-a4f8f6f43d79",
   "metadata": {},
   "outputs": [
    {
     "name": "stdout",
     "output_type": "stream",
     "text": [
      "674\n",
      "393\n"
     ]
    }
   ],
   "source": [
    "# Lesson 3: Variables-Length Arguments(*args & **kwargs)\n",
    "# 1. Think of *args as a way to accept many values as a tuple\n",
    "\n",
    "def add_numbers(*args):\n",
    "    return sum(args)\n",
    "\n",
    "print(add_numbers(2,3,434,3,232))\n",
    "print(add_numbers(5,10,15,20,343))\n",
    "\n",
    "# Uses_Cases: Data aggrgations,total scores, or summing numeric columns dynamically\n"
   ]
  },
  {
   "cell_type": "code",
   "execution_count": 36,
   "id": "aa43ea60-2ebd-4e53-8e00-a1a6bff2e567",
   "metadata": {},
   "outputs": [
    {
     "name": "stdout",
     "output_type": "stream",
     "text": [
      "name: Jayasurya\n",
      "role: AI Enginner\n",
      "city: Banglore\n"
     ]
    }
   ],
   "source": [
    "# 2) **kwargs -> For multiple keyword arguments\n",
    "# ** kwargs lets your function accept many named parameters( as a dictionary)\n",
    "\n",
    "def show_details(**kwargs):\n",
    "    for key,value in kwargs.items():\n",
    "        print(f\"{key}: {value}\")\n",
    "show_details(name=\"Jayasurya\",role=\"AI Enginner\",city=\"Banglore\")\n",
    "\n",
    "\n",
    "### Use Case: Flexible data passsing - like ML model parameters or config files"
   ]
  },
  {
   "cell_type": "code",
   "execution_count": 37,
   "id": "5393618f-b3ac-4cc0-8da8-4b3186cc5742",
   "metadata": {},
   "outputs": [
    {
     "name": "stdout",
     "output_type": "stream",
     "text": [
      "Positional args: (1, 2, 3, 2, 3)\n",
      "keywords parameters: {'name': 'Jayasurya', 'course': 'AI Engineering'}\n",
      "None\n"
     ]
    }
   ],
   "source": [
    "# 3. Combine *args and **kwargs\n",
    "\n",
    "def demo_function(*args, **kwargs):\n",
    "    print(\"Positional args:\",args)\n",
    "    print(\"keywords parameters:\",kwargs)\n",
    "\n",
    "print(demo_function(1,2,3,2,3, name=\"Jayasurya\",course=\"AI Engineering\"))\n"
   ]
  },
  {
   "cell_type": "code",
   "execution_count": 40,
   "id": "ca6273f3-bff0-465e-b33f-7d177a053bb0",
   "metadata": {},
   "outputs": [
    {
     "name": "stdout",
     "output_type": "stream",
     "text": [
      "marks (491,)\n",
      "student details: {'std_name': 'Jayasurya', 'std_ID': 'IAM49', 'city': 'Bengaluru'}\n",
      "<function student_report at 0x000001A7975956C0>\n"
     ]
    }
   ],
   "source": [
    "# Task1 \n",
    "# Create a function called student_report() that can take:\n",
    "# -> Any number of marks (using *args)\n",
    "# -> Any number of student details(using **kwargs)\n",
    "# Then print average marks and details nearly.\n",
    "\n",
    "def student_report(*args, **kwargs):\n",
    "    print(\"marks\",args)\n",
    "    print(\"student details:\",kwargs)\n",
    "\n",
    "student_report(491,std_name=\"Jayasurya\",std_ID=\"IAM49\",city=\"Bengaluru\")\n",
    "print(student_report)"
   ]
  },
  {
   "cell_type": "code",
   "execution_count": 52,
   "id": "fc83550b-8c98-4e47-baae-ce572cf3d431",
   "metadata": {},
   "outputs": [
    {
     "name": "stdout",
     "output_type": "stream",
     "text": [
      "Marks: (453,)\n",
      "\n",
      "Student Details:\n",
      "name: Jayasurya\n",
      "ID: IAM123\n",
      "City: Bengaluru\n",
      "\n",
      "Average Marks: 453.00\n"
     ]
    },
    {
     "data": {
      "text/plain": [
       "0"
      ]
     },
     "execution_count": 52,
     "metadata": {},
     "output_type": "execute_result"
    }
   ],
   "source": [
    "def student_report(*args,**kwargs):\n",
    "    for key,value in kwargs.items():\n",
    "         print(\"Marks:\",args)\n",
    "\n",
    "         print(\"\\nStudent Details:\")\n",
    "         for key,value in kwargs.items():\n",
    "              print( f\"{key}: {value}\")\n",
    "         # If marks exist, calculate average\n",
    "         if args:\n",
    "             avg = sum(args) / len(args)\n",
    "             print(f\"\\nAverage Marks: {avg:.2f}\")\n",
    "\n",
    "             return 0\n",
    "\n",
    "\n",
    "student_report(453,name=\"Jayasurya\",ID=\"IAM123\",City=\"Bengaluru\")\n",
    "\n",
    "\n",
    "## No return : Python gives default return value = None\n"
   ]
  },
  {
   "cell_type": "code",
   "execution_count": null,
   "id": "d707d7cd-ecbe-4f71-a9e8-1de5f89fa05f",
   "metadata": {},
   "outputs": [],
   "source": [
    "# Real World Data Engineering Tasks\n",
    "''' You are a Data Engineer at a company,and you get server logs in a list of dictionaries\n",
    " format. Each dictionary represents a log entry:'''\n",
    "\n",
    "\n",
    "count_actions = [\n",
    "    {\"user\":\"Alice\",\"action\":\"login\",\"timestamp\":\"2025-10-18 08:00\"},\n",
    "    {\"user\":\"Surya\",\"action\":\"login\",\"timestamp\":\"2025-10-18 08:00\"},\n",
    "    {\"user\":\"Ram\",\"action\":\"login\",\"timestamp\":\"2025-10-18 08:00\"},\n",
    "    {\"user\":\"Charlie\",\"action\":\"login\",\"timestamp\":\"2025-10-18 08:00\"}\n",
    "]\n",
    "\n",
    "''' \n",
    "1) Create a function that accepts logs as input and counts the number of actions per user.\n",
    "and counts the number of actions per user.\n",
    "\n",
    "2) Use *args to allow multiple lists of logs to be passed to the function.\\\n",
    "\n",
    "3) Use **kwargs to allow optional filter, e.g, only count certain actions(action=\"login\").\n",
    "\n",
    "''''"
   ]
  },
  {
   "cell_type": "code",
   "execution_count": 1,
   "id": "f037780e-3c7b-4329-88f0-2faef19774a8",
   "metadata": {},
   "outputs": [
    {
     "name": "stdout",
     "output_type": "stream",
     "text": [
      "This is inside the inner function\n",
      "This is inside the outer functions\n"
     ]
    }
   ],
   "source": [
    "## Day 2 (19/10/2025): \n",
    "\n",
    "# What is a Nested functions?\n",
    "# A nested function is a function defined inside another function. \n",
    "# It helps in encapsulation - Keeping helper logic private to the main function.\n",
    "\n",
    "def outer_function():\n",
    "    def inner_function():\n",
    "        print(\"This is inside the inner function\")\n",
    "        print(\"This is inside the outer functions\")\n",
    "    inner_function()\n",
    "outer_function()"
   ]
  },
  {
   "cell_type": "code",
   "execution_count": 2,
   "id": "245a3097-11ce-4004-a5ac-d662b3206250",
   "metadata": {},
   "outputs": [],
   "source": [
    "# 2) Why Nested Functions Matter in AI/ Data Engineering \n",
    "# They help organize code.\n",
    "# For Example, you might define:\n",
    "# an outer function for model training,\n",
    "# an inner function for preprocessing or metrics calculation"
   ]
  },
  {
   "cell_type": "code",
   "execution_count": 5,
   "id": "404dd5ed-abdc-4f53-abec-6f23380f29df",
   "metadata": {},
   "outputs": [
    {
     "name": "stdout",
     "output_type": "stream",
     "text": [
      "training model with: [10, 5, 0, 8]\n"
     ]
    }
   ],
   "source": [
    "def train_model(data):\n",
    "    def preprocessing(data):\n",
    "        cleaned = [x for x in data if x > -1] \n",
    "        return cleaned\n",
    "\n",
    "    processed = preprocessing(data)\n",
    "    print(\"training model with:\", processed)\n",
    "train_model([10,-2,5,0,8])"
   ]
  },
  {
   "cell_type": "code",
   "execution_count": 8,
   "id": "edd52805-7bb9-4c4e-9b52-fb35f08b65f4",
   "metadata": {},
   "outputs": [
    {
     "name": "stdout",
     "output_type": "stream",
     "text": [
      "Training Model with: [1, 5, 634, 23]\n"
     ]
    }
   ],
   "source": [
    "\n",
    "def train_model(data):\n",
    "    def preprocessed(data):\n",
    "        clean = [x for x in data if x > 0]\n",
    "        return clean\n",
    "    Preprocess = preprocessed(data)\n",
    "    print(\"Training Model with:\", Preprocess)\n",
    "train_model([1,-2,-4,5,634,23])"
   ]
  },
  {
   "cell_type": "markdown",
   "id": "72c063cf-8477-4ef0-aa77-ad263d8c16a3",
   "metadata": {},
   "source": [
    "### Concepts Scope: Local vs Global Variables"
   ]
  },
  {
   "cell_type": "code",
   "execution_count": 9,
   "id": "27e9d399-4895-47f3-bc21-ef402d61588c",
   "metadata": {},
   "outputs": [],
   "source": [
    "# Day 3:\n",
    "## Local Variables -> Inside a function\n",
    "### Global variables -> Outsidd the functions"
   ]
  },
  {
   "cell_type": "code",
   "execution_count": 15,
   "id": "82570474-5b8b-421d-babf-015ef00b5160",
   "metadata": {},
   "outputs": [
    {
     "name": "stdout",
     "output_type": "stream",
     "text": [
      "Inside function: 10\n"
     ]
    }
   ],
   "source": [
    "x = 10 # global variables.\n",
    "\n",
    "def demo1(x):\n",
    "    \n",
    "    print(\"Inside function:\",x)\n",
    "    \n",
    "demo1(x)\n",
    "\n",
    "x = 10 # global variables."
   ]
  },
  {
   "cell_type": "code",
   "execution_count": 16,
   "id": "256233e8-9ddc-426c-983a-9be1db2a6add",
   "metadata": {},
   "outputs": [
    {
     "data": {
      "text/plain": [
       "\"' \\n1) Create a function called data_pipeline()\\n    Inside it:\\n    * Define a nested function clean_data()\\n    that removes None or negative values\\n    from a list\\n    * Then, print both raw and cleaned data.\\n\\n2)Observe what happens if you try to call clean_data() outside of data_pipeline().\\n\""
      ]
     },
     "execution_count": 16,
     "metadata": {},
     "output_type": "execute_result"
    }
   ],
   "source": [
    "# Practice Task:\n",
    "'''' \n",
    "1) Create a function called data_pipeline()\n",
    "    Inside it:\n",
    "    * Define a nested function clean_data()\n",
    "    that removes None or negative values\n",
    "    from a list\n",
    "    * Then, print both raw and cleaned data.\n",
    "\n",
    "2)Observe what happens if you try to call clean_data() outside of data_pipeline().\n",
    "'''"
   ]
  },
  {
   "cell_type": "code",
   "execution_count": 21,
   "id": "0513707b-a239-46c6-a4a1-6c95c4be2c03",
   "metadata": {},
   "outputs": [
    {
     "name": "stdout",
     "output_type": "stream",
     "text": [
      "Raw data: [23, -1, 2, -3, 4, 0, 45]\n",
      "cleaned_data: [23, 2, 4, 45]\n",
      "\n",
      "Returned cleaned data: [23, 2, 4, 45]\n"
     ]
    }
   ],
   "source": [
    "\n",
    "def data_pipeline(data):\n",
    "    print(\"Raw data:\",data)\n",
    "    \n",
    "    def clean_data(data):\n",
    "         return [ x for x in data if x > 0]\n",
    "    \n",
    "    cleaned_data =  clean_data(data)\n",
    "    print(\"cleaned_data:\",cleaned_data)\n",
    "    return cleaned_data\n",
    "    \n",
    "cleaned = data_pipeline([23,-1,2,-3,4,0,45])\n",
    "print(\"\\nReturned cleaned data:\",cleaned)\n"
   ]
  },
  {
   "cell_type": "markdown",
   "id": "f67dbee2-cf7a-4a73-b57d-b8f5c9e07ef6",
   "metadata": {},
   "source": [
    "### Lambda functions"
   ]
  },
  {
   "cell_type": "code",
   "execution_count": 22,
   "id": "3e31192d-03ac-4194-be66-6e1592b2733b",
   "metadata": {},
   "outputs": [],
   "source": [
    "### what is the lambda functions?\n",
    "# A lambda function is a small,one-line function with no name.\n",
    "# It's used when you need a quick function - not something you'll reuse many times."
   ]
  },
  {
   "cell_type": "code",
   "execution_count": 23,
   "id": "885020d3-0246-461e-8365-bd92034d6cb2",
   "metadata": {},
   "outputs": [],
   "source": [
    "## python Syntax:\n",
    "# lambda arguments : expressions"
   ]
  },
  {
   "cell_type": "code",
   "execution_count": 24,
   "id": "7304534c-7fbf-44eb-a271-bf3b91c7ff5d",
   "metadata": {},
   "outputs": [
    {
     "name": "stdout",
     "output_type": "stream",
     "text": [
      "25\n"
     ]
    }
   ],
   "source": [
    "square = lambda x : x ** 2\n",
    "print(square(5))\n",
    "\n",
    "# def square(x):\n",
    "#     return x ** 2\n",
    "# square(5)"
   ]
  },
  {
   "cell_type": "code",
   "execution_count": 29,
   "id": "1142332e-65cd-4ed7-9619-bea132bbd76e",
   "metadata": {},
   "outputs": [
    {
     "name": "stdout",
     "output_type": "stream",
     "text": [
      "3\n"
     ]
    }
   ],
   "source": [
    " #  Example 2: Add two Numbers:\n",
    "add = lambda a,b: a + b\n",
    "print(add(1,2))"
   ]
  },
  {
   "cell_type": "code",
   "execution_count": 31,
   "id": "ab6732ca-c47e-4937-8492-41003a5faf95",
   "metadata": {},
   "outputs": [
    {
     "name": "stdout",
     "output_type": "stream",
     "text": [
      "Odd\n"
     ]
    }
   ],
   "source": [
    "## Example 3: Conditional in Lambda \n",
    "check = lambda x: \"Even\" if x % 2 == 0 else \"Odd\"\n",
    "print(check(5))"
   ]
  },
  {
   "cell_type": "code",
   "execution_count": 7,
   "id": "af64f82f-8c21-4977-bfef-4cb28e3cc8da",
   "metadata": {},
   "outputs": [
    {
     "name": "stdout",
     "output_type": "stream",
     "text": [
      "Even\n"
     ]
    }
   ],
   "source": [
    "## Example 4: Conditional in lambda.\n",
    "checkin = lambda x,y: \"Even\" if y % x == 0 else \"Odd\"\n",
    "print(checkin(6,6))"
   ]
  },
  {
   "cell_type": "code",
   "execution_count": 14,
   "id": "7c7cda86-d5ce-4dda-95cb-3d525c118f7b",
   "metadata": {},
   "outputs": [
    {
     "name": "stdout",
     "output_type": "stream",
     "text": [
      "High-value transactions (above $10000) [12000, 25000, 18000]\n"
     ]
    }
   ],
   "source": [
    "## Task 4:\n",
    "## Scenario: You are a Data Engineer/ Data Analyst working with a list of transactions amounts. \n",
    "## you need to filter only the high-value transactions(say, $10000).\n",
    "transactions = [4500,12000,8000,25000,9500,18000,6000]\n",
    "# use lambda with filter() to get only high-value transactions\n",
    "high_value = list(filter(lambda amount: amount > 10000, transactions))\n",
    "\n",
    "print(\"High-value transactions (above $10000)\", high_value)"
   ]
  },
  {
   "cell_type": "markdown",
   "id": "4e0fa4e5-0c6c-49ed-9537-d13912d83414",
   "metadata": {},
   "source": [
    "## Map() and Filter() Functions.\n",
    "### Purpose: Apply a function to every element in a list, tuple or iterable.\n"
   ]
  },
  {
   "cell_type": "markdown",
   "id": "a3d555af-3cda-4a34-b501-16a65461adf5",
   "metadata": {},
   "source": [
    "Syntax: map(function, iterable)"
   ]
  },
  {
   "cell_type": "code",
   "execution_count": 13,
   "id": "cccbc5c7-f30a-429d-a934-d240771afe9a",
   "metadata": {},
   "outputs": [
    {
     "name": "stdout",
     "output_type": "stream",
     "text": [
      "[415000, 4980000, 5810000, 6640000]\n"
     ]
    }
   ],
   "source": [
    "# Real world Data Engineer use Case:\n",
    "## Transforming raw data while loading into a pipeline.\n",
    "## Example: Converting salaries to another currency,cleaning,standardizing formats.\n",
    "\n",
    "salaries_usd = [5000,60000,70000,80000]\n",
    "\n",
    "# Convert to INR (1 USD = 83 INR)\n",
    "salaries_inr = list(map(lambda x: x * 83, salaries_usd))\n",
    "print(salaries_inr) "
   ]
  },
  {
   "cell_type": "code",
   "execution_count": 15,
   "id": "ae422066-5ef5-4e47-8df1-55f81f4e1d7d",
   "metadata": {},
   "outputs": [],
   "source": [
    "## Filter() function\n",
    "### Purpose: Select element from a list that satisfy a condition.\n",
    "### Filter(function, iterable)"
   ]
  },
  {
   "cell_type": "code",
   "execution_count": 16,
   "id": "b3785bd4-2c16-472b-9588-2b964233917c",
   "metadata": {},
   "outputs": [],
   "source": [
    "## Real - world usecases \n",
    "## Filtering rows in a dataset before further processing.\n",
    "## Example: Extract high-value transactions or active users."
   ]
  },
  {
   "cell_type": "code",
   "execution_count": 17,
   "id": "cd77f2e1-de6d-4cf2-9549-300f029d349c",
   "metadata": {},
   "outputs": [
    {
     "name": "stdout",
     "output_type": "stream",
     "text": [
      "[5810000, 6640000]\n"
     ]
    }
   ],
   "source": [
    "# Filter salaries greater then 50,00000 INR.\n",
    "high_salaries = list(filter(lambda x: x > 5000000, salaries_inr))\n",
    "print(high_salaries)"
   ]
  },
  {
   "cell_type": "code",
   "execution_count": 22,
   "id": "b065dc14-7536-4790-aa56-6c8dc7883198",
   "metadata": {},
   "outputs": [
    {
     "name": "stdout",
     "output_type": "stream",
     "text": [
      "[6681499.999999999, 7635999.999999999]\n"
     ]
    }
   ],
   "source": [
    "# Combined Usecases(map + filter)\n",
    "# Apply 10% bonus and filter salaries above 6 million INR.\n",
    "\n",
    "bonus_salaries = list(map(lambda x: x*1., salaries_inr))\n",
    "high_bonus_salaries = list(filter(lambda x : x > 6000000, bonus_salaries))\n",
    "print(high_bonus_salaries)"
   ]
  },
  {
   "cell_type": "code",
   "execution_count": 33,
   "id": "7cc57e29-1871-4824-bbd8-d84a3bac710a",
   "metadata": {},
   "outputs": [
    {
     "name": "stdout",
     "output_type": "stream",
     "text": [
      "['ALICE', 'BOB', 'CHARLIE']\n"
     ]
    }
   ],
   "source": [
    "## Interview oriented practice Tasks,\n",
    "# Task1: Clean Data using map():\n",
    "'''\n",
    "Scenario (Real-world Data Engineer use Case():\n",
    "Imagine you've received raw customer names from a csv file. \n",
    "They have extra spaces because of poor data entry - before loading into your database, \n",
    "you must clean them.\n",
    "'''\n",
    "names = [\" Alice \",\" Bob\", \"Charlie\"]\n",
    "clean_names = list(map(lambda x: x.upper().strip(), names))\n",
    "print(clean_names)\n"
   ]
  },
  {
   "cell_type": "code",
   "execution_count": 27,
   "id": "8c633767-ed36-4766-877c-88d3fbcf289b",
   "metadata": {},
   "outputs": [
    {
     "name": "stdout",
     "output_type": "stream",
     "text": [
      "Listed peoples are major guys: [21, 18, 25, 30]\n"
     ]
    }
   ],
   "source": [
    "# Task 2: Filter Data.\n",
    "import numpy as np\n",
    "ages = [21,18,25,16,30]\n",
    "minor_data = list(filter(lambda x : x >= 18, ages))\n",
    "print(\"Listed peoples are major guys:\",minor_data)"
   ]
  },
  {
   "cell_type": "code",
   "execution_count": 29,
   "id": "4ce80224-87b5-4548-9758-a42f6cf4ab62",
   "metadata": {},
   "outputs": [
    {
     "name": "stdout",
     "output_type": "stream",
     "text": [
      "The Currency converted into USD to INR [3320000, 4980000, 5810000]\n"
     ]
    }
   ],
   "source": [
    "# Task 3: Transform & Filter.\n",
    "# Given sales data in USD, convert to INR and keep sales > 5,000,000 INR\n",
    "sales_usd = [40000, 60000, 70000]\n",
    "usd_dollars = list(map(lambda x : x * 83, sales_usd))\n",
    "print(\"The Currency converted into USD to INR\",usd_dollars)"
   ]
  },
  {
   "cell_type": "code",
   "execution_count": 36,
   "id": "f12a2103-5afe-4bc7-9c29-1e12e4b1e19f",
   "metadata": {},
   "outputs": [
    {
     "name": "stdout",
     "output_type": "stream",
     "text": [
      "['a@gmail.com', 'c@gmail.com']\n"
     ]
    }
   ],
   "source": [
    "## Task 4: (Optional for challenges): Extract emails\n",
    "email = [\"a@gmail.com\",\"b@yahoo.com\",\"c@gmail.com\"]\n",
    "gmail_com = list(filter(lambda email: email.endswith(\"@gmail.com\"), email))\n",
    "print(gmail_com)"
   ]
  },
  {
   "cell_type": "code",
   "execution_count": 38,
   "id": "dc787c91-f033-4797-b28a-f690679b6186",
   "metadata": {},
   "outputs": [
    {
     "name": "stdout",
     "output_type": "stream",
     "text": [
      "The Letters with starting letter a: ['apple']\n"
     ]
    }
   ],
   "source": [
    "# Task 4:\n",
    "\n",
    "# You have a list of product names like [\" Apple \", \"Mango \", \" Banana\"].\n",
    "## Clean all names using map(), convert them to lowercase, and filter only those starting with the letter 'a'.\n",
    "\n",
    "# Step 1: Clean spaces and convert to lowercase.\n",
    "products = [\" Apple \",\"Mango \", \"Banana\"]\n",
    "cleaned_products = list(map(lambda p: p.strip().lower(), products))\n",
    "\n",
    "# Step 2: Filter products starting with 'a'.\n",
    "products_starting_with_a = list(filter(lambda p: p.startswith(\"a\"),clean_products))\n",
    "print(\"The Letters with starting letter a:\",starting_a)\n"
   ]
  },
  {
   "cell_type": "code",
   "execution_count": 40,
   "id": "e6b94536-f81c-40b1-af7e-7dff3b801260",
   "metadata": {},
   "outputs": [
    {
     "name": "stdout",
     "output_type": "stream",
     "text": [
      "['apple']\n"
     ]
    }
   ],
   "source": [
    "# Combine into a pipeline (bonus pattern)\n",
    "\n",
    "products = [\" Apple \",\"Mango \",\" Banana\"]\n",
    "starting_a = list(\n",
    "    filter(\n",
    "        lambda x: x.startswith('a'),\n",
    "        map(lambda x: x.strip().lower(), products)\n",
    "    )\n",
    ")\n",
    "print(starting_a)"
   ]
  },
  {
   "cell_type": "code",
   "execution_count": 42,
   "id": "6a9ba7ab-7626-4be2-8444-8926387c494c",
   "metadata": {},
   "outputs": [
    {
     "name": "stdout",
     "output_type": "stream",
     "text": [
      "['apple', 'banana']\n"
     ]
    }
   ],
   "source": [
    "# Tasks 5: Filter all the products starting with either 'a' or 'b'.\n",
    "\n",
    "starting_a_b = list(filter(lambda x: x.startswith(('a','b')),cleaned_products))\n",
    "print(starting_a_b)\n"
   ]
  },
  {
   "cell_type": "code",
   "execution_count": 45,
   "id": "37fdde3d-08ed-4177-8c3f-1aaa97837a01",
   "metadata": {},
   "outputs": [
    {
     "name": "stdout",
     "output_type": "stream",
     "text": [
      "Cleaned Transactions:\n",
      "{'customer': 'Alice', 'amount': 5000, 'status': 'SUCCESS'}\n",
      "{'customer': 'Bob', 'amount': 25000, 'status': 'SUCCESS'}\n",
      "{'customer': 'Ram', 'amount': 17000, 'status': 'Failed'}\n",
      "{'customer': 'Jai', 'amount': 16000, 'status': 'SUCCESS'}\n",
      "{'customer': 'Surya', 'amount': 18000, 'status': 'Failed'}\n",
      "\n",
      " Successful Transactions:\n",
      "{'customer': 'Alice', 'amount': 5000, 'status': 'SUCCESS'}\n",
      "{'customer': 'Bob', 'amount': 25000, 'status': 'SUCCESS'}\n",
      "{'customer': 'Jai', 'amount': 16000, 'status': 'SUCCESS'}\n",
      "\n",
      " high value customers:\n",
      "{'customer': 'Alice', 'amount': 5000, 'status': 'SUCCESS'}\n",
      "{'customer': 'Bob', 'amount': 25000, 'status': 'SUCCESS'}\n",
      "{'customer': 'Jai', 'amount': 16000, 'status': 'SUCCESS'}\n"
     ]
    }
   ],
   "source": [
    "# Scenario based real world Data Enginnering Challenges:\n",
    "\n",
    "## Your client gives you raw customer transactions data( from a CSV extract).\n",
    "## you must clean, transform and filter, it before loading to your data warehouse.\n",
    "\n",
    "# Raw Dataset:\n",
    "transactions = [\n",
    "    {\"customer\":\"Alice\",\"amount\":\"5000\",\"status\":\"SUCCESS\"},\n",
    "    {\"customer\":\"Bob\",\"amount\":\"25000\",\"status\":\"SUCCESS\"},\n",
    "    {\"customer\":\"Ram\",\"amount\":\"17000\",\"status\":\"Failed\"},\n",
    "    {\"customer\":\"Jai\",\"amount\":\"16000\",\"status\":\"SUCCESS\"},\n",
    "       {\"customer\":\"Surya\",\"amount\":\"18000\",\"status\":\"Failed\"}\n",
    "]\n",
    "\n",
    "# Step 2: Data Cleaning & Transformation \n",
    "cleaned_transactions = list(map(\n",
    "       lambda record: { \n",
    "           \"customer\": \n",
    "record[\"customer\"].strip(),\n",
    "           \"amount\":\n",
    "int(record[\"amount\"].strip()) if\n",
    "record[\"amount\"].strip().isdigit() else 0,\n",
    "           \"status\":\n",
    "record[\"status\"].strip()\n",
    "       },\n",
    "    transactions\n",
    "))\n",
    "\n",
    "## step 3: Filter only the Successful transactions\n",
    "successful_transactions = list(filter( lambda record: record[\"status\"] == \"SUCCESS\",cleaned_transactions))\n",
    "\n",
    "# step 4: Filter high-value transactions (Analytics Filter)\n",
    "\n",
    "high_value_transactions = list(filter( lambda record: record[\"amount\"] > 4000, successful_transactions))\n",
    "\n",
    "## step 5: Load / output Results (Load)\n",
    "print(\"Cleaned Transactions:\")\n",
    "for txn in cleaned_transactions:\n",
    "    print(txn)\n",
    "print(\"\\n Successful Transactions:\")\n",
    "for txn in successful_transactions:\n",
    "    print(txn)\n",
    "print(\"\\n high value customers:\")\n",
    "for txn in high_value_transactions:\n",
    "    print(txn)"
   ]
  },
  {
   "cell_type": "code",
   "execution_count": null,
   "id": "2fb735fc-ff4e-4d06-bff4-7278ce5525bc",
   "metadata": {},
   "outputs": [],
   "source": []
  }
 ],
 "metadata": {
  "kernelspec": {
   "display_name": "Python 3 (ipykernel)",
   "language": "python",
   "name": "python3"
  },
  "language_info": {
   "codemirror_mode": {
    "name": "ipython",
    "version": 3
   },
   "file_extension": ".py",
   "mimetype": "text/x-python",
   "name": "python",
   "nbconvert_exporter": "python",
   "pygments_lexer": "ipython3",
   "version": "3.12.4"
  }
 },
 "nbformat": 4,
 "nbformat_minor": 5
}
